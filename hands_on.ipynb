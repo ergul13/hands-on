{
  "nbformat": 4,
  "nbformat_minor": 0,
  "metadata": {
    "colab": {
      "provenance": [],
      "authorship_tag": "ABX9TyPADYQO8hK/Xusd2QeXgBgS",
      "include_colab_link": true
    },
    "kernelspec": {
      "name": "python3",
      "display_name": "Python 3"
    },
    "language_info": {
      "name": "python"
    }
  },
  "cells": [
    {
      "cell_type": "markdown",
      "metadata": {
        "id": "view-in-github",
        "colab_type": "text"
      },
      "source": [
        "<a href=\"https://colab.research.google.com/github/ergul13/hands-on/blob/main/hands_on.ipynb\" target=\"_parent\"><img src=\"https://colab.research.google.com/assets/colab-badge.svg\" alt=\"Open In Colab\"/></a>"
      ]
    },
    {
      "cell_type": "code",
      "execution_count": 1,
      "metadata": {
        "id": "YlWNFPBMlrUz"
      },
      "outputs": [],
      "source": [
        "from sklearn.datasets import load_breast_cancer"
      ]
    },
    {
      "cell_type": "code",
      "source": [
        "import numpy as np\n",
        "import matplotlib.pyplot as plt\n",
        "from sklearn.model_selection import train_test_split\n",
        "from sklearn.datasets import load_breast_cancer\n",
        "from sklearn.preprocessing import StandardScaler"
      ],
      "metadata": {
        "id": "jzYArgOelzko"
      },
      "execution_count": 2,
      "outputs": []
    },
    {
      "cell_type": "code",
      "source": [
        "data = load_breast_cancer()"
      ],
      "metadata": {
        "id": "MEwWkAWcxSTw"
      },
      "execution_count": 3,
      "outputs": []
    },
    {
      "cell_type": "code",
      "source": [
        "print(data.DESCR)"
      ],
      "metadata": {
        "colab": {
          "base_uri": "https://localhost:8080/"
        },
        "collapsed": true,
        "id": "S-fW-E-gxbQB",
        "outputId": "12f4962f-dd1f-44ec-f76a-88665c90dd16"
      },
      "execution_count": 4,
      "outputs": [
        {
          "output_type": "stream",
          "name": "stdout",
          "text": [
            ".. _breast_cancer_dataset:\n",
            "\n",
            "Breast cancer wisconsin (diagnostic) dataset\n",
            "--------------------------------------------\n",
            "\n",
            "**Data Set Characteristics:**\n",
            "\n",
            ":Number of Instances: 569\n",
            "\n",
            ":Number of Attributes: 30 numeric, predictive attributes and the class\n",
            "\n",
            ":Attribute Information:\n",
            "    - radius (mean of distances from center to points on the perimeter)\n",
            "    - texture (standard deviation of gray-scale values)\n",
            "    - perimeter\n",
            "    - area\n",
            "    - smoothness (local variation in radius lengths)\n",
            "    - compactness (perimeter^2 / area - 1.0)\n",
            "    - concavity (severity of concave portions of the contour)\n",
            "    - concave points (number of concave portions of the contour)\n",
            "    - symmetry\n",
            "    - fractal dimension (\"coastline approximation\" - 1)\n",
            "\n",
            "    The mean, standard error, and \"worst\" or largest (mean of the three\n",
            "    worst/largest values) of these features were computed for each image,\n",
            "    resulting in 30 features.  For instance, field 0 is Mean Radius, field\n",
            "    10 is Radius SE, field 20 is Worst Radius.\n",
            "\n",
            "    - class:\n",
            "            - WDBC-Malignant\n",
            "            - WDBC-Benign\n",
            "\n",
            ":Summary Statistics:\n",
            "\n",
            "===================================== ====== ======\n",
            "                                        Min    Max\n",
            "===================================== ====== ======\n",
            "radius (mean):                        6.981  28.11\n",
            "texture (mean):                       9.71   39.28\n",
            "perimeter (mean):                     43.79  188.5\n",
            "area (mean):                          143.5  2501.0\n",
            "smoothness (mean):                    0.053  0.163\n",
            "compactness (mean):                   0.019  0.345\n",
            "concavity (mean):                     0.0    0.427\n",
            "concave points (mean):                0.0    0.201\n",
            "symmetry (mean):                      0.106  0.304\n",
            "fractal dimension (mean):             0.05   0.097\n",
            "radius (standard error):              0.112  2.873\n",
            "texture (standard error):             0.36   4.885\n",
            "perimeter (standard error):           0.757  21.98\n",
            "area (standard error):                6.802  542.2\n",
            "smoothness (standard error):          0.002  0.031\n",
            "compactness (standard error):         0.002  0.135\n",
            "concavity (standard error):           0.0    0.396\n",
            "concave points (standard error):      0.0    0.053\n",
            "symmetry (standard error):            0.008  0.079\n",
            "fractal dimension (standard error):   0.001  0.03\n",
            "radius (worst):                       7.93   36.04\n",
            "texture (worst):                      12.02  49.54\n",
            "perimeter (worst):                    50.41  251.2\n",
            "area (worst):                         185.2  4254.0\n",
            "smoothness (worst):                   0.071  0.223\n",
            "compactness (worst):                  0.027  1.058\n",
            "concavity (worst):                    0.0    1.252\n",
            "concave points (worst):               0.0    0.291\n",
            "symmetry (worst):                     0.156  0.664\n",
            "fractal dimension (worst):            0.055  0.208\n",
            "===================================== ====== ======\n",
            "\n",
            ":Missing Attribute Values: None\n",
            "\n",
            ":Class Distribution: 212 - Malignant, 357 - Benign\n",
            "\n",
            ":Creator:  Dr. William H. Wolberg, W. Nick Street, Olvi L. Mangasarian\n",
            "\n",
            ":Donor: Nick Street\n",
            "\n",
            ":Date: November, 1995\n",
            "\n",
            "This is a copy of UCI ML Breast Cancer Wisconsin (Diagnostic) datasets.\n",
            "https://goo.gl/U2Uwz2\n",
            "\n",
            "Features are computed from a digitized image of a fine needle\n",
            "aspirate (FNA) of a breast mass.  They describe\n",
            "characteristics of the cell nuclei present in the image.\n",
            "\n",
            "Separating plane described above was obtained using\n",
            "Multisurface Method-Tree (MSM-T) [K. P. Bennett, \"Decision Tree\n",
            "Construction Via Linear Programming.\" Proceedings of the 4th\n",
            "Midwest Artificial Intelligence and Cognitive Science Society,\n",
            "pp. 97-101, 1992], a classification method which uses linear\n",
            "programming to construct a decision tree.  Relevant features\n",
            "were selected using an exhaustive search in the space of 1-4\n",
            "features and 1-3 separating planes.\n",
            "\n",
            "The actual linear program used to obtain the separating plane\n",
            "in the 3-dimensional space is that described in:\n",
            "[K. P. Bennett and O. L. Mangasarian: \"Robust Linear\n",
            "Programming Discrimination of Two Linearly Inseparable Sets\",\n",
            "Optimization Methods and Software 1, 1992, 23-34].\n",
            "\n",
            "This database is also available through the UW CS ftp server:\n",
            "\n",
            "ftp ftp.cs.wisc.edu\n",
            "cd math-prog/cpo-dataset/machine-learn/WDBC/\n",
            "\n",
            ".. dropdown:: References\n",
            "\n",
            "  - W.N. Street, W.H. Wolberg and O.L. Mangasarian. Nuclear feature extraction\n",
            "    for breast tumor diagnosis. IS&T/SPIE 1993 International Symposium on\n",
            "    Electronic Imaging: Science and Technology, volume 1905, pages 861-870,\n",
            "    San Jose, CA, 1993.\n",
            "  - O.L. Mangasarian, W.N. Street and W.H. Wolberg. Breast cancer diagnosis and\n",
            "    prognosis via linear programming. Operations Research, 43(4), pages 570-577,\n",
            "    July-August 1995.\n",
            "  - W.H. Wolberg, W.N. Street, and O.L. Mangasarian. Machine learning techniques\n",
            "    to diagnose breast cancer from fine-needle aspirates. Cancer Letters 77 (1994)\n",
            "    163-171.\n",
            "\n"
          ]
        }
      ]
    },
    {
      "cell_type": "code",
      "source": [
        "X = data.data\n",
        "y = data.target"
      ],
      "metadata": {
        "id": "NnTexHKPyU0G"
      },
      "execution_count": 6,
      "outputs": []
    },
    {
      "cell_type": "code",
      "source": [
        "print(X.shape)"
      ],
      "metadata": {
        "colab": {
          "base_uri": "https://localhost:8080/"
        },
        "id": "D1BeNV08ymN9",
        "outputId": "6bbc533e-4009-4cca-a195-d0d320a6faff"
      },
      "execution_count": 7,
      "outputs": [
        {
          "output_type": "stream",
          "name": "stdout",
          "text": [
            "(569, 30)\n"
          ]
        }
      ]
    },
    {
      "cell_type": "code",
      "source": [
        "print(y.shape)"
      ],
      "metadata": {
        "colab": {
          "base_uri": "https://localhost:8080/"
        },
        "id": "dqEYRkYayzGl",
        "outputId": "556dbe38-5a93-453d-ef6b-8b88e1ca0f42"
      },
      "execution_count": 8,
      "outputs": [
        {
          "output_type": "stream",
          "name": "stdout",
          "text": [
            "(569,)\n"
          ]
        }
      ]
    },
    {
      "cell_type": "markdown",
      "source": [
        "veri ölçeklendirme"
      ],
      "metadata": {
        "id": "fzuqrbf2zSeC"
      }
    },
    {
      "cell_type": "code",
      "source": [
        "scaler = StandardScaler()\n",
        "X_Scaled = scaler.fit_transform(X)"
      ],
      "metadata": {
        "id": "hjWfifvzy1Rh"
      },
      "execution_count": 11,
      "outputs": []
    },
    {
      "cell_type": "code",
      "source": [
        "X_train, X_test, y_train, y_test = train_test_split(X_Scaled, y, test_size = 0.2, random_state = 42)"
      ],
      "metadata": {
        "id": "HAL3z38DzJn3"
      },
      "execution_count": 13,
      "outputs": []
    },
    {
      "cell_type": "code",
      "source": [
        "def sigmoid(z):\n",
        "  return 1 / (1 + np.exp(-z))"
      ],
      "metadata": {
        "id": "lOaQ598bzquq"
      },
      "execution_count": 14,
      "outputs": []
    },
    {
      "cell_type": "code",
      "source": [
        "def initialize_weights(dim):\n",
        "    \"\"\"\n",
        "    Ağırlık vektörünü (dim, 1) boyutunda sıfırlarla ve sapmayı (b) 0 olarak başlatır.\n",
        "    dim: Ağırlık sayımız, yani veri setindeki özellik sayısı.\n",
        "    \"\"\"\n",
        "    w = np.zeros((dim, 1))\n",
        "    b = 0.0\n",
        "    return w, b"
      ],
      "metadata": {
        "id": "byZ87UKW0LOO"
      },
      "execution_count": 15,
      "outputs": []
    },
    {
      "cell_type": "code",
      "source": [
        "def compute_loss_and_gradient(X, y, w, b):\n",
        "    \"\"\"\n",
        "    İleri yayılım ile kaybı ve geri yayılım ile gradyanları hesaplar.\n",
        "    \"\"\"\n",
        "    m = X.shape[0] # Örnek sayısı\n",
        "\n",
        "    # İLERİ YAYILIM (FORWARD PROPAGATION)\n",
        "    # 1. Lineer adımı hesapla\n",
        "    z = np.dot(X, w) + b\n",
        "    # 2. Aktivasyonu (tahmini) hesapla\n",
        "    A = sigmoid(z)\n",
        "    # 3. Kaybı (cost) hesapla\n",
        "    # Not: y'nin boyutunu (m,) den (m,1)'e çeviriyoruz ki matris işlemleri doğru olsun.\n",
        "    cost = - (1 / m) * np.sum(y.reshape(-1,1) * np.log(A) + (1 - y.reshape(-1,1)) * np.log(1 - A))\n",
        "\n",
        "    # GERİ YAYILIM (BACKWARD PROPAGATION) - Gradyanları Hesaplama\n",
        "    # Türev formüllerinin NumPy'daki karşılığı:\n",
        "    dw = (1 / m) * np.dot(X.T, (A - y.reshape(-1,1)))\n",
        "    db = (1 / m) * np.sum(A - y.reshape(-1,1))\n",
        "\n",
        "    # Gradyanları ve kaybı bir sözlük yapısında saklayalım\n",
        "    grads = {\"dw\": dw,\n",
        "             \"db\": db}\n",
        "\n",
        "    return grads, np.squeeze(cost) # cost'u skaler değere dönüştür"
      ],
      "metadata": {
        "id": "sW9A_-Eh0LxW"
      },
      "execution_count": 16,
      "outputs": []
    },
    {
      "cell_type": "code",
      "source": [
        "def train(X_train, y_train, epochs, learning_rate):\n",
        "    \"\"\"\n",
        "    Gradyan inişi kullanarak parametreleri (w, b) optimize eder (öğrenir).\n",
        "    \"\"\"\n",
        "    # 1. Ağırlıkları ve sapmayı başlat\n",
        "    dim = X_train.shape[1]\n",
        "    w, b = initialize_weights(dim)\n",
        "\n",
        "    costs = [] # Kaybı her adımda kaydedeceğimiz liste\n",
        "\n",
        "    # 2. Gradyan inişi döngüsü\n",
        "    for i in range(epochs):\n",
        "        # Kaybı ve gradyanı hesapla\n",
        "        grads, cost = compute_loss_and_gradient(X_train, y_train, w, b)\n",
        "\n",
        "        # Ağırlıkları ve sapmayı güncelle\n",
        "        dw = grads[\"dw\"]\n",
        "        db = grads[\"db\"]\n",
        "        w = w - learning_rate * dw\n",
        "        b = b - learning_rate * db\n",
        "\n",
        "        # Her 100 adımda bir kaybı kaydet ve ekrana yazdır\n",
        "        if i % 100 == 0:\n",
        "            costs.append(cost)\n",
        "            print(f\"Epoch {i}, Cost: {cost}\")\n",
        "\n",
        "    # Öğrenilen parametreleri ve maliyet geçmişini sakla\n",
        "    params = {\"w\": w, \"b\": b}\n",
        "\n",
        "    return params, costs"
      ],
      "metadata": {
        "id": "OwWdIhB40X6-"
      },
      "execution_count": 17,
      "outputs": []
    },
    {
      "cell_type": "code",
      "source": [
        "# Hiperparametreleri belirle\n",
        "epochs = 2500\n",
        "learning_rate = 0.09\n",
        "\n",
        "# Modeli eğit\n",
        "trained_params, costs_history = train(X_train, y_train, epochs, learning_rate)\n",
        "\n",
        "# Öğrenme eğrisini çizdir\n",
        "plt.plot(costs_history)\n",
        "plt.title(\"Eğitim Sürecinde Kaybın Değişimi\")\n",
        "plt.xlabel(\"İterasyon (x100)\")\n",
        "plt.ylabel(\"Cost\")\n",
        "plt.show()"
      ],
      "metadata": {
        "colab": {
          "base_uri": "https://localhost:8080/",
          "height": 908
        },
        "id": "FpMQd2RL0eDz",
        "outputId": "ed698110-1bfb-4916-a2ba-51758d2f33ba"
      },
      "execution_count": 36,
      "outputs": [
        {
          "output_type": "stream",
          "name": "stdout",
          "text": [
            "Epoch 0, Cost: 0.6931471805599453\n",
            "Epoch 100, Cost: 0.10927219048562781\n",
            "Epoch 200, Cost: 0.0894211376298658\n",
            "Epoch 300, Cost: 0.08065160153435465\n",
            "Epoch 400, Cost: 0.07538596974086224\n",
            "Epoch 500, Cost: 0.07174602576071092\n",
            "Epoch 600, Cost: 0.069017371814038\n",
            "Epoch 700, Cost: 0.06686228256419538\n",
            "Epoch 800, Cost: 0.06509773671019906\n",
            "Epoch 900, Cost: 0.06361466528213246\n",
            "Epoch 1000, Cost: 0.06234333292923799\n",
            "Epoch 1100, Cost: 0.06123666099191701\n",
            "Epoch 1200, Cost: 0.06026145606221715\n",
            "Epoch 1300, Cost: 0.059393467670385544\n",
            "Epoch 1400, Cost: 0.05861444460269994\n",
            "Epoch 1500, Cost: 0.0579102999060463\n",
            "Epoch 1600, Cost: 0.05726992293293562\n",
            "Epoch 1700, Cost: 0.05668438555600131\n",
            "Epoch 1800, Cost: 0.05614639737651421\n",
            "Epoch 1900, Cost: 0.05564992306322247\n",
            "Epoch 2000, Cost: 0.055189907922568456\n",
            "Epoch 2100, Cost: 0.054762077196850195\n",
            "Epoch 2200, Cost: 0.054362786435664785\n",
            "Epoch 2300, Cost: 0.053988907776762185\n",
            "Epoch 2400, Cost: 0.05363774184673962\n"
          ]
        },
        {
          "output_type": "display_data",
          "data": {
            "text/plain": [
              "<Figure size 640x480 with 1 Axes>"
            ],
            "image/png": "[encoded data removed]"
          },
          "metadata": {}
        }
      ]
    },
    {
      "cell_type": "code",
      "source": [
        "def predict(X, w, b):\n",
        "    \"\"\"\n",
        "    Öğrenilen parametreler (w, b) ile X için 0 veya 1 tahmini yapar.\n",
        "    \"\"\"\n",
        "    m = X.shape[0]\n",
        "    y_prediction = np.zeros((1, m))\n",
        "    w = w.reshape(X.shape[1], 1) # Boyut uyumluluğunu garantile\n",
        "\n",
        "    # Olasılıkları hesapla (A)\n",
        "    A = sigmoid(np.dot(X, w) + b)\n",
        "\n",
        "    # Olasılıkları 0 veya 1'e çevir\n",
        "    for i in range(A.shape[0]):\n",
        "        if A[i, 0] > 0.5:\n",
        "            y_prediction[0, i] = 1\n",
        "        else:\n",
        "            y_prediction[0, i] = 0\n",
        "\n",
        "    return y_prediction.flatten() # (1,m) yerine (m,) boyutunda döndür"
      ],
      "metadata": {
        "id": "U-Li-xQf0jE2"
      },
      "execution_count": 37,
      "outputs": []
    },
    {
      "cell_type": "code",
      "source": [
        "# Kendi modelimizle test seti üzerinde tahmin yapalım\n",
        "w = trained_params[\"w\"]\n",
        "b = trained_params[\"b\"]\n",
        "my_predictions = predict(X_test, w, b)\n",
        "my_accuracy = 100 - np.mean(np.abs(my_predictions - y_test)) * 100\n",
        "print(f\"Kendi Modelimin Test Doğruluğu: {my_accuracy:.2f}%\")\n",
        "\n",
        "# Şimdi de scikit-learn ile yapalım\n",
        "from sklearn.linear_model import LogisticRegression\n",
        "log_reg = LogisticRegression()\n",
        "log_reg.fit(X_train, y_train)\n",
        "sklearn_accuracy = log_reg.score(X_test, y_test) * 100\n",
        "print(f\"Scikit-learn Modelinin Test Doğruluğu: {sklearn_accuracy:.2f}%\")"
      ],
      "metadata": {
        "colab": {
          "base_uri": "https://localhost:8080/"
        },
        "id": "EUeRE0WS0sRc",
        "outputId": "d2a39f9b-34af-46b3-8805-1e9fd3c878b2"
      },
      "execution_count": 38,
      "outputs": [
        {
          "output_type": "stream",
          "name": "stdout",
          "text": [
            "Kendi Modelimin Test Doğruluğu: 99.12%\n",
            "Scikit-learn Modelinin Test Doğruluğu: 97.37%\n"
          ]
        }
      ]
    },
    {
      "cell_type": "code",
      "source": [],
      "metadata": {
        "id": "r6NkcdXJ0vNK"
      },
      "execution_count": null,
      "outputs": []
    }
  ]
}